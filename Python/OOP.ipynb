{
 "cells": [
  {
   "cell_type": "code",
   "execution_count": 1,
   "metadata": {},
   "outputs": [],
   "source": [
    "class Pet():\n",
    "    def __init__(self, height):\n",
    "        self.height = height"
   ]
  },
  {
   "cell_type": "code",
   "execution_count": 4,
   "metadata": {},
   "outputs": [
    {
     "data": {
      "text/plain": [
       "5"
      ]
     },
     "execution_count": 4,
     "metadata": {},
     "output_type": "execute_result"
    }
   ],
   "source": [
    "chubbles = Pet(5)\n",
    "chubbles.height"
   ]
  },
  {
   "cell_type": "code",
   "execution_count": 8,
   "metadata": {},
   "outputs": [
    {
     "data": {
      "text/plain": [
       "2"
      ]
     },
     "execution_count": 8,
     "metadata": {},
     "output_type": "execute_result"
    }
   ],
   "source": [
    "class Circle():\n",
    "    def __init__(self, radius, colour):\n",
    "        self.colour = colour\n",
    "        self.radius = radius\n",
    "        \n",
    "Circle1 = Circle(2, 'green')\n",
    "Circle1.colour\n",
    "Circle1.radius\n",
    "\n"
   ]
  },
  {
   "cell_type": "code",
   "execution_count": 14,
   "metadata": {},
   "outputs": [
    {
     "data": {
      "text/plain": [
       "'red'"
      ]
     },
     "execution_count": 14,
     "metadata": {},
     "output_type": "execute_result"
    }
   ],
   "source": [
    "class Circle2():\n",
    "    is_shape = 'yes'\n",
    "    def __init__(self, radius, colour = 'red'):\n",
    "        self.radius = radius\n",
    "        self.colour = colour\n",
    "my_circle = Circle2(1)\n",
    "my_circle.colour"
   ]
  },
  {
   "cell_type": "code",
   "execution_count": 18,
   "metadata": {},
   "outputs": [
    {
     "data": {
      "text/plain": [
       "28.274333882308138"
      ]
     },
     "execution_count": 18,
     "metadata": {},
     "output_type": "execute_result"
    }
   ],
   "source": [
    "import math\n",
    "class CircleA():\n",
    "    def __init__(self, radius, colour = 'red'):\n",
    "        self.radius = radius\n",
    "        self.colour = colour\n",
    "    def area(self):\n",
    "        return math.pi * ((self.radius) **2)\n",
    "my_circle2 = CircleA(3)\n",
    "my_circle2.area()"
   ]
  },
  {
   "cell_type": "code",
   "execution_count": 20,
   "metadata": {},
   "outputs": [
    {
     "data": {
      "text/plain": [
       "True"
      ]
     },
     "execution_count": 20,
     "metadata": {},
     "output_type": "execute_result"
    }
   ],
   "source": [
    "class Pet():\n",
    "    def __init__(self, height):\n",
    "        self.height = height\n",
    "    def is_tall(self):\n",
    "        return self.height >= 50\n",
    "doggo = Pet(50)\n",
    "doggo.is_tall()\n",
    "        "
   ]
  },
  {
   "cell_type": "code",
   "execution_count": 21,
   "metadata": {},
   "outputs": [
    {
     "data": {
      "text/plain": [
       "False"
      ]
     },
     "execution_count": 21,
     "metadata": {},
     "output_type": "execute_result"
    }
   ],
   "source": [
    "doggo.height = 10\n",
    "doggo.is_tall()"
   ]
  },
  {
   "cell_type": "code",
   "execution_count": 27,
   "metadata": {},
   "outputs": [
    {
     "name": "stdout",
     "output_type": "stream",
     "text": [
      "<class '__main__.Pet2'>\n"
     ]
    }
   ],
   "source": [
    "class Pet2():\n",
    "    def __init__(self, height):\n",
    "        self.height = height\n",
    "    def is_tall(self, tall_if):\n",
    "        return self.height >= tall_if\n",
    "cat = Pet2(40)\n",
    "cat.is_tall(30)\n",
    "print(Pet2)\n"
   ]
  },
  {
   "cell_type": "code",
   "execution_count": 33,
   "metadata": {},
   "outputs": [
    {
     "name": "stdout",
     "output_type": "stream",
     "text": [
      "catto height: 20\n"
     ]
    }
   ],
   "source": [
    "class Pet3():\n",
    "    def __init__(self, height, name):\n",
    "        self.height = height\n",
    "        self.name = name\n",
    "    def __str__(self):\n",
    "        return \"{} height: {}\".format(self.name, self.height)\n",
    "cat = Pet3(20, 'catto')\n",
    "print(cat)"
   ]
  },
  {
   "cell_type": "code",
   "execution_count": 66,
   "metadata": {},
   "outputs": [
    {
     "data": {
      "text/plain": [
       "7"
      ]
     },
     "execution_count": 66,
     "metadata": {},
     "output_type": "execute_result"
    }
   ],
   "source": [
    "class Employee():\n",
    "    raise_amt = 5\n",
    "    @classmethod\n",
    "    def set_raise_amt(cls, amount):\n",
    "        cls.raise_amt = amount\n",
    "\n",
    "joe = Employee()\n",
    "joe.raise_amt  # initial class attribute\n",
    "\n",
    "joe.set_raise_amt(7)\n",
    "joe.raise_amt  # class attribute after changing with @classmethod"
   ]
  },
  {
   "cell_type": "code",
   "execution_count": 71,
   "metadata": {},
   "outputs": [
    {
     "name": "stdout",
     "output_type": "stream",
     "text": [
      "62\n",
      "71\n",
      "82\n",
      "20\n",
      "7\n"
     ]
    }
   ],
   "source": [
    "import random\n",
    "class pet():\n",
    "    def __init__(self, height):\n",
    "        self.height = height\n",
    "    @classmethod\n",
    "    def random_pet_height(cls):\n",
    "        height = random.randrange(0,100)\n",
    "        return height\n",
    "\n",
    "for i in range(5):\n",
    "    cat = pet.random_pet_height()\n",
    "    print(cat)"
   ]
  },
  {
   "cell_type": "code",
   "execution_count": 77,
   "metadata": {},
   "outputs": [
    {
     "data": {
      "text/plain": [
       "'Joe.Zhou@gmail.com'"
      ]
     },
     "execution_count": 77,
     "metadata": {},
     "output_type": "execute_result"
    }
   ],
   "source": [
    "class email():\n",
    "    def __init__(self, fname, lname):\n",
    "        self.fname = fname\n",
    "        self.lname = lname\n",
    "    def get_email(self):\n",
    "        return '{}.{}@gmail.com'.format(self.fname,self.lname)\n",
    "Joe = email('Joe', 'Zhou')\n",
    "Joe.get_email()      # without a property decorator, a parentheses() will be required when calling the function"
   ]
  },
  {
   "cell_type": "code",
   "execution_count": 78,
   "metadata": {},
   "outputs": [
    {
     "data": {
      "text/plain": [
       "'Joe.Zhou@gmail.com'"
      ]
     },
     "execution_count": 78,
     "metadata": {},
     "output_type": "execute_result"
    }
   ],
   "source": [
    "class email():\n",
    "    def __init__(self, fname, lname):\n",
    "        self.fname = fname\n",
    "        self.lname = lname \n",
    "    @property         # property decorator lets us access the method like an attribute\n",
    "    def get_email(self):\n",
    "        return '{}.{}@gmail.com'.format(self.fname,self.lname)\n",
    "emp1 = email('Joe', 'Zhou')\n",
    "emp1.get_email        # WITH a property decorator, NO parentheses() will be needed"
   ]
  },
  {
   "cell_type": "code",
   "execution_count": 100,
   "metadata": {},
   "outputs": [
    {
     "name": "stdout",
     "output_type": "stream",
     "text": [
      "Deleted name!\n"
     ]
    }
   ],
   "source": [
    "class email1():\n",
    "    def __init__(self, fname, lname):\n",
    "        self.fname = fname\n",
    "        self.lname = lname\n",
    "    @property   \n",
    "    def get_email(self):\n",
    "        return '{}.{}@gmail.com'.format(self.fname,self.lname)\n",
    "    @property\n",
    "    def fullname(self): \n",
    "        return '{} {}'.format(self.fname, self.lname)\n",
    "    @fullname.setter\n",
    "    def fullname(self, name):\n",
    "        fname, lname = name.split(' ')\n",
    "        self.fname = fname\n",
    "        self.lname = lname\n",
    "    @fullname.deleter\n",
    "    def fullname(self): \n",
    "        print('Deleted name!')\n",
    "        self.fname = None\n",
    "        self.lname = None\n",
    "        \n",
    "emp1 = email1('Joe', 'Zhou')\n",
    "emp1.fullname = 'John Wick'\n",
    "emp1.get_email\n",
    "del emp1.fullname"
   ]
  },
  {
   "cell_type": "code",
   "execution_count": 123,
   "metadata": {},
   "outputs": [
    {
     "data": {
      "text/plain": [
       "1200"
      ]
     },
     "execution_count": 123,
     "metadata": {},
     "output_type": "execute_result"
    }
   ],
   "source": [
    "class Number():\n",
    "    def __init__(self, number):\n",
    "        self.number = number\n",
    "    @property\n",
    "    def multiply_10(self):\n",
    "        return self.number * 10\n",
    "    @multiply_10.setter\n",
    "    def multiply_10(self, number):\n",
    "        if value > -460:\n",
    "            raise ValueError('Temperatures less than -460F are not possible') #################\n",
    "        self.number = number \n",
    "pet = Number(120)\n",
    "pet.multiply_10"
   ]
  },
  {
   "cell_type": "code",
   "execution_count": 124,
   "metadata": {},
   "outputs": [],
   "source": [
    "class Person():\n",
    "    def __init__(self, fname, lname):\n",
    "        self.fname = fname\n",
    "        self.lname = lname\n"
   ]
  },
  {
   "cell_type": "code",
   "execution_count": 126,
   "metadata": {},
   "outputs": [
    {
     "name": "stdout",
     "output_type": "stream",
     "text": [
      "Hey there\n",
      "GAGAGOGO\n"
     ]
    }
   ],
   "source": [
    "class Adult(Person):\n",
    "    def speak(self):\n",
    "        print(\"Hey there\")\n",
    "class Baby(Person):\n",
    "    def speak(self):\n",
    "        print(\"GAGAGOGO\")\n",
    "p1 = Adult('Joe', 'Zhou')\n",
    "p2 = Baby('Boi', 'Tan')\n",
    "p1.speak()\n",
    "p2.speak()"
   ]
  },
  {
   "cell_type": "code",
   "execution_count": 154,
   "metadata": {},
   "outputs": [],
   "source": [
    "class Person():\n",
    "    def __init__(self, first_name, last_name):\n",
    "        self.first_name = first_name\n",
    "        self.last_name = last_name\n",
    "    \n",
    "    @property\n",
    "    def full_name(self):\n",
    "        return '{} {}'.format(self.first_name, self.last_name)\n",
    "    \n",
    "    @full_name.setter\n",
    "    def full_name(self, name):\n",
    "        first, last = name.split(' ')\n",
    "        self.first_name = first\n",
    "        self.last_name = last\n",
    "        \n",
    "class BetterPerson(Person):\n",
    "    @property\n",
    "    def fullname(self):\n",
    "        return '{} {}'.format(self.firstname, self.lastname)\n",
    "    @fullname.setter\n",
    "    def fullname(self, name):\n",
    "        names = name.split(' ')\n",
    "        self.firstname = names[0]\n",
    "        if len(names) > 2:\n",
    "            self.lastname = ' '.join(names[1:])\n",
    "        elif len(names) == 2: \n",
    "            self.lastname = names[1]"
   ]
  },
  {
   "cell_type": "code",
   "execution_count": 155,
   "metadata": {},
   "outputs": [
    {
     "data": {
      "text/plain": [
       "'Wayne The Lim'"
      ]
     },
     "execution_count": 155,
     "metadata": {},
     "output_type": "execute_result"
    }
   ],
   "source": [
    "Wayne = BetterPerson('Wayne', 'Lim')\n",
    "Wayne.fullname = \"Wayne The Lim\"\n",
    "Wayne.firstname\n",
    "Wayne.lastname\n",
    "Wayne.fullname\n"
   ]
  },
  {
   "cell_type": "code",
   "execution_count": 164,
   "metadata": {},
   "outputs": [
    {
     "name": "stdout",
     "output_type": "stream",
     "text": [
      "2012-12-23\n"
     ]
    }
   ],
   "source": [
    "import datetime\n",
    "date = datetime.date(2012,12,23)\n",
    "print(date)"
   ]
  },
  {
   "cell_type": "code",
   "execution_count": 168,
   "metadata": {},
   "outputs": [
    {
     "name": "stdout",
     "output_type": "stream",
     "text": [
      "\n",
      "Name: John\n",
      "Age: 15\n",
      "        \n"
     ]
    }
   ],
   "source": [
    "class Print():\n",
    "    def __init__(self, name, age):\n",
    "        self.name, self.age = name, age\n",
    "    def __str__(self):\n",
    "        return \"\"\"\n",
    "Name: {}\n",
    "Age: {}\n",
    "        \"\"\".format(self.name, self.age)\n",
    "        \n",
    "x = Print('John', 15)\n",
    "print(x)"
   ]
  },
  {
   "cell_type": "code",
   "execution_count": 39,
   "metadata": {},
   "outputs": [
    {
     "data": {
      "text/plain": [
       "5"
      ]
     },
     "execution_count": 39,
     "metadata": {},
     "output_type": "execute_result"
    }
   ],
   "source": [
    "class Polygon():\n",
    "    \"\"\"Parent class\"\"\"\n",
    "    def __init__(self, side_lengths):\n",
    "        self.side_lengths = side_lengths\n",
    "    def __str__(self):\n",
    "        return \"This shape has {} sides\".format(self.num_sides)\n",
    "    @property\n",
    "    def num_sides(self):\n",
    "        return len(self.side_lengths)\n",
    "    @property \n",
    "    def perimeter(self):\n",
    "        return sum(self.side_lengths)\n",
    "    \n",
    "class Rectangle(Polygon):\n",
    "    def __init__(self, height, width):\n",
    "        super().__init__([height, width, height, width])\n",
    "    @property\n",
    "    def area(self):\n",
    "        return self.side_lengths[0] * self.side_lengths[1]\n",
    "    \n",
    "r = Rectangle(1,5)\n",
    "r.perimeter\n",
    "r.area"
   ]
  },
  {
   "cell_type": "code",
   "execution_count": 50,
   "metadata": {},
   "outputs": [
    {
     "data": {
      "text/plain": [
       "25"
      ]
     },
     "execution_count": 50,
     "metadata": {},
     "output_type": "execute_result"
    }
   ],
   "source": [
    "class Square(Rectangle):\n",
    "    def __init__(self, height):\n",
    "        super().__init__(height, height)\n",
    "s = Square(5)\n",
    "s.area"
   ]
  },
  {
   "cell_type": "code",
   "execution_count": null,
   "metadata": {},
   "outputs": [],
   "source": []
  }
 ],
 "metadata": {
  "kernelspec": {
   "display_name": "Python 3",
   "language": "python",
   "name": "python3"
  },
  "language_info": {
   "codemirror_mode": {
    "name": "ipython",
    "version": 3
   },
   "file_extension": ".py",
   "mimetype": "text/x-python",
   "name": "python",
   "nbconvert_exporter": "python",
   "pygments_lexer": "ipython3",
   "version": "3.7.4"
  }
 },
 "nbformat": 4,
 "nbformat_minor": 2
}
